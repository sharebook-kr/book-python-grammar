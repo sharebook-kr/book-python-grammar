{
 "cells": [
  {
   "cell_type": "markdown",
   "metadata": {},
   "source": [
    "## 리스트\n",
    "### 파이썬 리스트\n",
    "데이터의 수가 적다면 변수에 값을 바인딩할 수 있습니다."
   ]
  },
  {
   "cell_type": "code",
   "execution_count": 2,
   "metadata": {},
   "outputs": [],
   "source": [
    "아이스크림1 = \"월드콘\"\n",
    "아이스크림2 = \"메로나\"\n",
    "아이스크림3 = \"스크류바\""
   ]
  },
  {
   "cell_type": "markdown",
   "metadata": {},
   "source": [
    "데이터가 많다면 자료구조로 표현하는 게 좋습니다."
   ]
  },
  {
   "cell_type": "code",
   "execution_count": null,
   "metadata": {},
   "outputs": [],
   "source": [
    "아이스크림 = [\"월드콘\", \"메로나\", \"스크류바\"]"
   ]
  },
  {
   "cell_type": "markdown",
   "metadata": {},
   "source": [
    "### 리스트의 인덱싱\n",
    "인덱스를 사용해서 데이터를 하나 선택하는 것을 인덱싱이라고 합니다."
   ]
  },
  {
   "cell_type": "code",
   "execution_count": 4,
   "metadata": {},
   "outputs": [
    {
     "name": "stdout",
     "output_type": "stream",
     "text": [
      "월드콘\n",
      "메로나\n"
     ]
    }
   ],
   "source": [
    "아이스크림 = [\"월드콘\", \"메로나\", \"스크류바\"]\n",
    "print(아이스크림[0]) # 인덱싱 기능의 대괄호\n",
    "print(아이스크림[1]) # 인덱싱 기능의 대괄호"
   ]
  },
  {
   "cell_type": "markdown",
   "metadata": {},
   "source": [
    "정해진 범위를 벗어나면 에러입니다."
   ]
  },
  {
   "cell_type": "code",
   "execution_count": 5,
   "metadata": {},
   "outputs": [
    {
     "ename": "IndexError",
     "evalue": "list index out of range",
     "output_type": "error",
     "traceback": [
      "\u001b[0;31m---------------------------------------------------------------------------\u001b[0m",
      "\u001b[0;31mIndexError\u001b[0m                                Traceback (most recent call last)",
      "Cell \u001b[0;32mIn[5], line 1\u001b[0m\n\u001b[0;32m----> 1\u001b[0m \u001b[38;5;28mprint\u001b[39m(\u001b[43m아이스크림\u001b[49m\u001b[43m[\u001b[49m\u001b[38;5;241;43m3\u001b[39;49m\u001b[43m]\u001b[49m) \u001b[38;5;66;03m# 인덱싱 에러\u001b[39;00m\n",
      "\u001b[0;31mIndexError\u001b[0m: list index out of range"
     ]
    }
   ],
   "source": [
    "print(아이스크림[3]) # 인덱싱 에러"
   ]
  },
  {
   "cell_type": "markdown",
   "metadata": {},
   "source": [
    "### 리스트 수정\n",
    "리스트는 수정할 수 있는 자료구조입니다."
   ]
  },
  {
   "cell_type": "code",
   "execution_count": 6,
   "metadata": {},
   "outputs": [
    {
     "name": "stdout",
     "output_type": "stream",
     "text": [
      "['월드콘', '메로나', '빵빠레']\n"
     ]
    }
   ],
   "source": [
    "아이스크림 = [\"월드콘\", \"메로나\", \"스크류바\"]\n",
    "아이스크림[2] = \"빵빠레\"\n",
    "print(아이스크림)"
   ]
  },
  {
   "cell_type": "markdown",
   "metadata": {},
   "source": [
    "### 리스트 추가\n",
    "`append` 메서드는 데이터를 끝에 추가합니다"
   ]
  },
  {
   "cell_type": "code",
   "execution_count": 7,
   "metadata": {},
   "outputs": [
    {
     "name": "stdout",
     "output_type": "stream",
     "text": [
      "['파이썬 배우기', '책 집필']\n"
     ]
    }
   ],
   "source": [
    "버킷리스트 = []\n",
    "버킷리스트.append(\"파이썬 배우기\")\n",
    "버킷리스트.append(\"책 집필\")\n",
    "print(버킷리스트)"
   ]
  },
  {
   "cell_type": "markdown",
   "metadata": {},
   "source": [
    "`insert` 메서드는 특정 위치에 데이터를 추가합니다.  \n",
    "- `리스트.insert(인덱스, 원소)`"
   ]
  },
  {
   "cell_type": "code",
   "execution_count": 8,
   "metadata": {},
   "outputs": [
    {
     "name": "stdout",
     "output_type": "stream",
     "text": [
      "['파이썬배우기', '책집필', '해외여행', '자격증공부']\n"
     ]
    }
   ],
   "source": [
    "버킷리스트 = [\"파이썬배우기\", \"책집필\", \"자격증공부\"]\n",
    "버킷리스트.insert(2, \"해외여행\")\n",
    "print(버킷리스트)"
   ]
  },
  {
   "cell_type": "markdown",
   "metadata": {},
   "source": [
    "### 리스트 원소 삭제\n",
    "`del` 키워드로 지정된 위치의 데이터를 제거합니다.\n",
    "- `del 리스트[인덱스]`"
   ]
  },
  {
   "cell_type": "code",
   "execution_count": 10,
   "metadata": {},
   "outputs": [
    {
     "name": "stdout",
     "output_type": "stream",
     "text": [
      "['파이썬배우기', '책집필', '자격증공부']\n"
     ]
    }
   ],
   "source": [
    "버킷리스트 = [\"파이썬배우기\", \"책집필\", \"해외여행\", \"자격증공부\"]\n",
    "del 버킷리스트[2]\n",
    "print(버킷리스트)"
   ]
  },
  {
   "cell_type": "markdown",
   "metadata": {},
   "source": [
    "### 리스트 확장\n",
    "여러 개의 리스트를 확장할 수 있습니다"
   ]
  },
  {
   "cell_type": "code",
   "execution_count": 11,
   "metadata": {},
   "outputs": [
    {
     "name": "stdout",
     "output_type": "stream",
     "text": [
      "[1, 2, 3, 4, 5, 6]\n"
     ]
    }
   ],
   "source": [
    "num1 = [1, 2, 3]\n",
    "num2 = [4, 5, 6]\n",
    "num1.extend(num2)\n",
    "print(num1)"
   ]
  },
  {
   "cell_type": "markdown",
   "metadata": {},
   "source": [
    "### 리스트의 최댓값과 최솟값"
   ]
  },
  {
   "cell_type": "code",
   "execution_count": 13,
   "metadata": {},
   "outputs": [
    {
     "name": "stdout",
     "output_type": "stream",
     "text": [
      "47850 45800\n"
     ]
    }
   ],
   "source": [
    "시세 = [47000, 46800, 45800, 47750, 47850]\n",
    "최댓값 = max(시세)\n",
    "최솟값 = min(시세)\n",
    "print(최댓값, 최솟값)"
   ]
  },
  {
   "cell_type": "markdown",
   "metadata": {},
   "source": [
    "### 리스트 정렬\n",
    "`sort` 함수는 오름차순으로 정렬한 결과를 반환합니다"
   ]
  },
  {
   "cell_type": "code",
   "execution_count": 14,
   "metadata": {},
   "outputs": [
    {
     "name": "stdout",
     "output_type": "stream",
     "text": [
      "[489, 498, 504, 506, 533]\n"
     ]
    }
   ],
   "source": [
    "price = [533, 504, 498, 506, 489]\n",
    "price1 = sorted(price)\n",
    "print(price1)"
   ]
  },
  {
   "cell_type": "markdown",
   "metadata": {},
   "source": [
    "내림차순으로 정렬하려면 `reverse=True` 옵션을 추가합니다"
   ]
  },
  {
   "cell_type": "code",
   "execution_count": 15,
   "metadata": {},
   "outputs": [
    {
     "name": "stdout",
     "output_type": "stream",
     "text": [
      "[533, 506, 504, 498, 489]\n"
     ]
    }
   ],
   "source": [
    "price = [533, 504, 498, 506, 489]\n",
    "price2 = sorted(price, reverse=True) # 내림차순 정렬\n",
    "print(price2)"
   ]
  },
  {
   "cell_type": "markdown",
   "metadata": {},
   "source": [
    "`sort` 메서드는 원본 자체를 수정합니다."
   ]
  },
  {
   "cell_type": "code",
   "execution_count": null,
   "metadata": {},
   "outputs": [],
   "source": [
    "price = [533, 504, 498, 506, 489]\n",
    "price.sort( )\n",
    "print(price)"
   ]
  },
  {
   "cell_type": "markdown",
   "metadata": {},
   "source": [
    "### 리스트 연결"
   ]
  },
  {
   "cell_type": "code",
   "execution_count": 17,
   "metadata": {},
   "outputs": [
    {
     "name": "stdout",
     "output_type": "stream",
     "text": [
      "['치토스', '썬칩', '양파링', '구구콘', '메로나', '비비빅']\n"
     ]
    }
   ],
   "source": [
    "과자 = [\"치토스\", \"썬칩\", \"양파링\"]\n",
    "아이스크림 = [\"구구콘\", \"메로나\", \"비비빅\"]\n",
    "구매품목 = 과자 + 아이스크림\n",
    "print(구매품목)"
   ]
  },
  {
   "cell_type": "markdown",
   "metadata": {},
   "source": [
    "### 인덱스 찾기\n",
    "`index` 메서드는 리스트의 데이터로 위치를 검색합니다."
   ]
  },
  {
   "cell_type": "code",
   "execution_count": 18,
   "metadata": {},
   "outputs": [
    {
     "data": {
      "text/plain": [
       "2"
      ]
     },
     "execution_count": 18,
     "metadata": {},
     "output_type": "execute_result"
    }
   ],
   "source": [
    "과자 = [\"치토스\", \"썬칩\", \"양파링\"]\n",
    "과자.index(\"양파링\")"
   ]
  },
  {
   "cell_type": "markdown",
   "metadata": {},
   "source": [
    "리스트에 값이 존재하지 않는다면 에러가 발생합니다"
   ]
  },
  {
   "cell_type": "code",
   "execution_count": 19,
   "metadata": {},
   "outputs": [
    {
     "ename": "ValueError",
     "evalue": "'포카칩' is not in list",
     "output_type": "error",
     "traceback": [
      "\u001b[0;31m---------------------------------------------------------------------------\u001b[0m",
      "\u001b[0;31mValueError\u001b[0m                                Traceback (most recent call last)",
      "Cell \u001b[0;32mIn[19], line 2\u001b[0m\n\u001b[1;32m      1\u001b[0m 과자 \u001b[38;5;241m=\u001b[39m [\u001b[38;5;124m\"\u001b[39m\u001b[38;5;124m치토스\u001b[39m\u001b[38;5;124m\"\u001b[39m, \u001b[38;5;124m\"\u001b[39m\u001b[38;5;124m썬칩\u001b[39m\u001b[38;5;124m\"\u001b[39m, \u001b[38;5;124m\"\u001b[39m\u001b[38;5;124m양파링\u001b[39m\u001b[38;5;124m\"\u001b[39m]\n\u001b[0;32m----> 2\u001b[0m \u001b[43m과자\u001b[49m\u001b[38;5;241;43m.\u001b[39;49m\u001b[43mindex\u001b[49m\u001b[43m(\u001b[49m\u001b[38;5;124;43m\"\u001b[39;49m\u001b[38;5;124;43m포카칩\u001b[39;49m\u001b[38;5;124;43m\"\u001b[39;49m\u001b[43m)\u001b[49m\n",
      "\u001b[0;31mValueError\u001b[0m: '포카칩' is not in list"
     ]
    }
   ],
   "source": [
    "과자 = [\"치토스\", \"썬칩\", \"양파링\"]\n",
    "과자.index(\"포카칩\")"
   ]
  },
  {
   "cell_type": "markdown",
   "metadata": {},
   "source": [
    "### 연습문제 - 1\n",
    "삼성전자 종가 리스트 구하기"
   ]
  },
  {
   "cell_type": "code",
   "execution_count": 20,
   "metadata": {},
   "outputs": [],
   "source": [
    "data = [59600, 60900, 60700, 61900, 62100]"
   ]
  },
  {
   "cell_type": "markdown",
   "metadata": {},
   "source": [
    "### 연습문제 - 2\n",
    "휘발유 가격을 리스트로 구성하고 최댓값과 최솟값을 출력하기"
   ]
  },
  {
   "cell_type": "code",
   "execution_count": 21,
   "metadata": {},
   "outputs": [
    {
     "name": "stdout",
     "output_type": "stream",
     "text": [
      "1463 1530\n"
     ]
    }
   ],
   "source": [
    "price = [1463, 1483, 1498, 1517, 1530]\n",
    "print(min(price), max(price))"
   ]
  },
  {
   "cell_type": "code",
   "execution_count": null,
   "metadata": {},
   "outputs": [],
   "source": []
  }
 ],
 "metadata": {
  "kernelspec": {
   "display_name": "Python 3",
   "language": "python",
   "name": "python3"
  },
  "language_info": {
   "codemirror_mode": {
    "name": "ipython",
    "version": 3
   },
   "file_extension": ".py",
   "mimetype": "text/x-python",
   "name": "python",
   "nbconvert_exporter": "python",
   "pygments_lexer": "ipython3",
   "version": "3.9.6"
  }
 },
 "nbformat": 4,
 "nbformat_minor": 2
}
