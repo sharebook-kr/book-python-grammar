{
 "cells": [
  {
   "cell_type": "markdown",
   "metadata": {},
   "source": [
    "## 2차원 데이터\n",
    "### 2차원 데이터\n",
    "자료구조가 중첩된 구조를 이차원 데이터라고 합니다"
   ]
  },
  {
   "cell_type": "code",
   "execution_count": 1,
   "metadata": {},
   "outputs": [],
   "source": [
    "apart = [\n",
    "    [101, 102],\n",
    "    [201, 202],\n",
    "    [301, 302]\n",
    "]"
   ]
  },
  {
   "cell_type": "code",
   "execution_count": 2,
   "metadata": {},
   "outputs": [],
   "source": [
    "apart = [\n",
    "(101, 102),\n",
    "(201, 202),\n",
    "(301, 302)\n",
    "]"
   ]
  },
  {
   "cell_type": "markdown",
   "metadata": {},
   "source": [
    "### 2차원 리스트 인덱싱"
   ]
  },
  {
   "cell_type": "code",
   "execution_count": 3,
   "metadata": {},
   "outputs": [
    {
     "name": "stdout",
     "output_type": "stream",
     "text": [
      "[101, 102]\n"
     ]
    }
   ],
   "source": [
    "apart = [\n",
    "    [101, 102],\n",
    "    [201, 202],\n",
    "    [301, 302]\n",
    "]\n",
    "print(apart[0])"
   ]
  },
  {
   "cell_type": "code",
   "execution_count": 4,
   "metadata": {},
   "outputs": [
    {
     "name": "stdout",
     "output_type": "stream",
     "text": [
      "101\n",
      "102\n"
     ]
    }
   ],
   "source": [
    "apart = [\n",
    "    [101, 102],\n",
    "    [201, 202],\n",
    "    [301, 302]\n",
    "]\n",
    "일층 = apart[0]\n",
    "print(일층[0])\n",
    "print(일층[1])"
   ]
  },
  {
   "cell_type": "code",
   "execution_count": 5,
   "metadata": {},
   "outputs": [
    {
     "name": "stdout",
     "output_type": "stream",
     "text": [
      "101\n",
      "102\n"
     ]
    }
   ],
   "source": [
    "apart = [\n",
    "    [101, 102],\n",
    "    [201, 202],\n",
    "    [301, 302]\n",
    "]\n",
    "print(apart[0][0])\n",
    "print(apart[0][1])"
   ]
  },
  {
   "cell_type": "markdown",
   "metadata": {},
   "source": [
    "### 딕셔너리 중첩"
   ]
  },
  {
   "cell_type": "code",
   "execution_count": 8,
   "metadata": {},
   "outputs": [
    {
     "name": "stdout",
     "output_type": "stream",
     "text": [
      "조대표\n",
      "경기도\n"
     ]
    }
   ],
   "source": [
    "고객정보 = {\n",
    "    \"이름\": \"조대표\",\n",
    "    \"직업\": \"직장인\",\n",
    "    \"주소\": {\n",
    "        \"도\": \"경기도\",\n",
    "        \"시\": \"김포시\",\n",
    "        \"동\": \"풍무동\"\n",
    "    }\n",
    "}\n",
    "print(고객정보[\"이름\"])\n",
    "print(고객정보[\"주소\"][\"도\"])"
   ]
  },
  {
   "cell_type": "markdown",
   "metadata": {},
   "source": [
    "### 연습문제 - 1\n",
    "암호화폐의 3일간의 가격을 딕셔너리와 리스트로 표현하라.\n",
    "- 각 거래일을 딕셔너리의 key로 표현\n",
    "\n",
    "|    날짜     |  open  |  high  |   low  | close  |\n",
    "|------------|-------|-------|-------|-------|\n",
    "| 2022-06-01 |   535 |   565 |   510 |   533 |\n",
    "| 2022-06-02 |   533 |   546 |   493 |   504 |\n",
    "| 2022-06-03 |   503 |   518 |   476 |   498 |\n"
   ]
  },
  {
   "cell_type": "code",
   "execution_count": 11,
   "metadata": {},
   "outputs": [],
   "source": [
    "data = {\n",
    "    \"2022-06-01\": [535, 565, 510, 533],\n",
    "    \"2022-06-02\": [533, 546, 493, 504],\n",
    "    \"2022-06-03\": [503, 518, 476, 498],\n",
    "}"
   ]
  },
  {
   "cell_type": "markdown",
   "metadata": {},
   "source": [
    "### 연습문제 - 2 \n",
    "다음 데이터를 딕셔너리와 리스트로 표현하라.\n",
    "| 월     | 상영 예정작                        |\n",
    "|--------|-----------------------------------|\n",
    "| 2021-05| 크루즈 패밀리, 극장판 콩순이, 아이들은 즐겁다|\n",
    "| 2021-06| 까치발                              |\n"
   ]
  },
  {
   "cell_type": "code",
   "execution_count": 10,
   "metadata": {},
   "outputs": [
    {
     "data": {
      "text/plain": [
       "{'2021-05': ['크루즈 패밀리', '극장판 콩순이', '아이들은 즐겁다'], '2021-06': ['까치발']}"
      ]
     },
     "execution_count": 10,
     "metadata": {},
     "output_type": "execute_result"
    }
   ],
   "source": [
    "movies_by_month = {\n",
    "    \"2021-05\": [\"크루즈 패밀리\", \"극장판 콩순이\", \"아이들은 즐겁다\"],\n",
    "    \"2021-06\": [\"까치발\"]\n",
    "}\n",
    "movies_by_month"
   ]
  },
  {
   "cell_type": "code",
   "execution_count": null,
   "metadata": {},
   "outputs": [],
   "source": []
  }
 ],
 "metadata": {
  "kernelspec": {
   "display_name": "Python 3",
   "language": "python",
   "name": "python3"
  },
  "language_info": {
   "codemirror_mode": {
    "name": "ipython",
    "version": 3
   },
   "file_extension": ".py",
   "mimetype": "text/x-python",
   "name": "python",
   "nbconvert_exporter": "python",
   "pygments_lexer": "ipython3",
   "version": "3.9.6"
  }
 },
 "nbformat": 4,
 "nbformat_minor": 2
}
