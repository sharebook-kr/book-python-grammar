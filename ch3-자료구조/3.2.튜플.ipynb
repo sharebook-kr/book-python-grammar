{
 "cells": [
  {
   "cell_type": "markdown",
   "metadata": {},
   "source": [
    "## 튜플\n",
    "### 튜플 생성\n",
    "튜플은 한 번 생성하면 값을 변경할 수 없습니다"
   ]
  },
  {
   "cell_type": "code",
   "execution_count": 1,
   "metadata": {},
   "outputs": [
    {
     "name": "stdout",
     "output_type": "stream",
     "text": [
      "(533, 504, 498, 506, 489)\n",
      "<class 'tuple'>\n"
     ]
    }
   ],
   "source": [
    "시세 = (533, 504, 498, 506, 489)\n",
    "print(시세)\n",
    "print(type(시세))"
   ]
  },
  {
   "cell_type": "markdown",
   "metadata": {},
   "source": [
    "### 튜플 인덱싱과 슬라이싱\n",
    "튜플은 순서가 있는 자료구조로 인덱싱과 슬라이싱이 리스트와 동일합니다"
   ]
  },
  {
   "cell_type": "code",
   "execution_count": 2,
   "metadata": {},
   "outputs": [
    {
     "name": "stdout",
     "output_type": "stream",
     "text": [
      "533\n",
      "504\n"
     ]
    }
   ],
   "source": [
    "시세 = (533, 504, 498, 506, 489)\n",
    "print(시세[0])\n",
    "print(시세[1])"
   ]
  },
  {
   "cell_type": "code",
   "execution_count": 3,
   "metadata": {},
   "outputs": [
    {
     "name": "stdout",
     "output_type": "stream",
     "text": [
      "(533, 504)\n"
     ]
    }
   ],
   "source": [
    "print(시세[0:2])"
   ]
  },
  {
   "cell_type": "markdown",
   "metadata": {},
   "source": [
    "### 튜플 수정\n",
    "튜플은 수정이 불가능합니다."
   ]
  },
  {
   "cell_type": "code",
   "execution_count": 4,
   "metadata": {},
   "outputs": [
    {
     "ename": "TypeError",
     "evalue": "'tuple' object does not support item assignment",
     "output_type": "error",
     "traceback": [
      "\u001b[0;31m---------------------------------------------------------------------------\u001b[0m",
      "\u001b[0;31mTypeError\u001b[0m                                 Traceback (most recent call last)",
      "Cell \u001b[0;32mIn[4], line 2\u001b[0m\n\u001b[1;32m      1\u001b[0m 시세 \u001b[38;5;241m=\u001b[39m (\u001b[38;5;241m533\u001b[39m, \u001b[38;5;241m504\u001b[39m, \u001b[38;5;241m498\u001b[39m, \u001b[38;5;241m506\u001b[39m, \u001b[38;5;241m489\u001b[39m)\n\u001b[0;32m----> 2\u001b[0m \u001b[43m시세\u001b[49m\u001b[43m[\u001b[49m\u001b[38;5;241;43m0\u001b[39;49m\u001b[43m]\u001b[49m \u001b[38;5;241m=\u001b[39m \u001b[38;5;241m100\u001b[39m \u001b[38;5;66;03m# 에러\u001b[39;00m\n",
      "\u001b[0;31mTypeError\u001b[0m: 'tuple' object does not support item assignment"
     ]
    }
   ],
   "source": [
    "시세 = (533, 504, 498, 506, 489)\n",
    "시세[0] = 100 # 에러"
   ]
  },
  {
   "cell_type": "markdown",
   "metadata": {},
   "source": [
    "### 리스트와 튜플의 형변환"
   ]
  },
  {
   "cell_type": "code",
   "execution_count": 5,
   "metadata": {},
   "outputs": [],
   "source": [
    "mylist = [1, 2, 3]\n",
    "result1 = tuple(mylist) # 리스트를 튜플로\n",
    "mytuple = (1, 2, 3)\n",
    "result2 = list(mytuple)"
   ]
  }
 ],
 "metadata": {
  "kernelspec": {
   "display_name": "Python 3",
   "language": "python",
   "name": "python3"
  },
  "language_info": {
   "codemirror_mode": {
    "name": "ipython",
    "version": 3
   },
   "file_extension": ".py",
   "mimetype": "text/x-python",
   "name": "python",
   "nbconvert_exporter": "python",
   "pygments_lexer": "ipython3",
   "version": "3.9.6"
  }
 },
 "nbformat": 4,
 "nbformat_minor": 2
}
