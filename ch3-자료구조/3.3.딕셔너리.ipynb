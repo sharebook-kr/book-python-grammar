{
 "cells": [
  {
   "cell_type": "markdown",
   "metadata": {},
   "source": [
    "## 딕셔너리\n",
    "### 표에 대한 데이터 표현\n",
    "다음 표를 자료구조로 표현하는 것을 생각해 봅시다.\n",
    "| 물품     | 가격   |\n",
    "|----------|--------|\n",
    "| 월드콘  | 2000   |\n",
    "| 메로나  | 1000   |\n",
    "| 스크류바 | 800   |"
   ]
  },
  {
   "cell_type": "markdown",
   "metadata": {},
   "source": [
    "리스트나 튜플로 표현할 수 있지만 데이터의 관계를 표현하기에 부족합니다."
   ]
  },
  {
   "cell_type": "code",
   "execution_count": 1,
   "metadata": {},
   "outputs": [],
   "source": [
    "아이스크림 = [\"월드콘\", \"메로나\", \"스크류바\"]\n",
    "가격 = [2000, 1000, 800]"
   ]
  },
  {
   "cell_type": "markdown",
   "metadata": {},
   "source": [
    "### 딕셔너리 생성\n",
    "딕셔너리는 연관된 데이터를 표현하기 좋은 자료구조입니다."
   ]
  },
  {
   "cell_type": "code",
   "execution_count": 2,
   "metadata": {},
   "outputs": [],
   "source": [
    "아이스크림 = {\n",
    "    \"월드콘\": 2000,\n",
    "    \"메로나\": 1000,\n",
    "    \"스크류바\": 800\n",
    "}"
   ]
  },
  {
   "cell_type": "markdown",
   "metadata": {},
   "source": [
    "### 딕셔너리 인덱싱\n",
    "순서가 없는 자료구조로 `key`를 사용해 `value`를 얻을 수 있습니다."
   ]
  },
  {
   "cell_type": "code",
   "execution_count": 3,
   "metadata": {},
   "outputs": [
    {
     "name": "stdout",
     "output_type": "stream",
     "text": [
      "2000\n"
     ]
    }
   ],
   "source": [
    "아이스크림 = {\n",
    "    \"월드콘\": 2000,\n",
    "    \"메로나\": 1000,\n",
    "    \"스크류바\": 800\n",
    "}\n",
    "print(아이스크림[\"월드콘\"])"
   ]
  },
  {
   "cell_type": "markdown",
   "metadata": {},
   "source": [
    "존재하지 않는 `key`에 접근하면 에러입니다."
   ]
  },
  {
   "cell_type": "code",
   "execution_count": 4,
   "metadata": {},
   "outputs": [
    {
     "ename": "KeyError",
     "evalue": "'하겐다즈'",
     "output_type": "error",
     "traceback": [
      "\u001b[0;31m---------------------------------------------------------------------------\u001b[0m",
      "\u001b[0;31mKeyError\u001b[0m                                  Traceback (most recent call last)",
      "Cell \u001b[0;32mIn[4], line 1\u001b[0m\n\u001b[0;32m----> 1\u001b[0m \u001b[43m아이스크림\u001b[49m\u001b[43m[\u001b[49m\u001b[38;5;124;43m'\u001b[39;49m\u001b[38;5;124;43m하겐다즈\u001b[39;49m\u001b[38;5;124;43m'\u001b[39;49m\u001b[43m]\u001b[49m\n",
      "\u001b[0;31mKeyError\u001b[0m: '하겐다즈'"
     ]
    }
   ],
   "source": [
    "아이스크림['하겐다즈']"
   ]
  },
  {
   "cell_type": "markdown",
   "metadata": {},
   "source": [
    "`get` 메서드를 사용해서 에러를 회피할 수 있습니다. "
   ]
  },
  {
   "cell_type": "code",
   "execution_count": 7,
   "metadata": {},
   "outputs": [
    {
     "name": "stdout",
     "output_type": "stream",
     "text": [
      "2000\n",
      "None\n"
     ]
    }
   ],
   "source": [
    "아이스크림 = {\n",
    "\"월드콘\": 2000,\n",
    "\"메로나\": 1000,\n",
    "\"스크류바\": 800\n",
    "}\n",
    "print(아이스크림.get(\"월드콘\"))\n",
    "print(아이스크림.get(\"하겐다즈\"))"
   ]
  },
  {
   "cell_type": "markdown",
   "metadata": {},
   "source": [
    "### 딕셔너리 수정\n",
    "다음과 같이 `key`를 사용해 값을 수정할 수 있습니다. \n",
    "- `딕셔너리[키] = 새로운 값`"
   ]
  },
  {
   "cell_type": "code",
   "execution_count": 8,
   "metadata": {},
   "outputs": [],
   "source": [
    "아이스크림[\"월드콘\"] = 2500"
   ]
  },
  {
   "cell_type": "markdown",
   "metadata": {},
   "source": [
    "존재하지 않는다면 값을 추가합니다."
   ]
  },
  {
   "cell_type": "code",
   "execution_count": null,
   "metadata": {},
   "outputs": [],
   "source": [
    "아이스크림 = {}\n",
    "아이스크림[\"월드콘\"] = 2000\n",
    "아이스크림[\"메로나\"] = 1000\n",
    "아이스크림[\"스크류바\"] = 800"
   ]
  },
  {
   "cell_type": "markdown",
   "metadata": {},
   "source": [
    "### 딕셔너리 원소 삭제\n",
    "`del` 키워드로 값을 삭제합니다"
   ]
  },
  {
   "cell_type": "code",
   "execution_count": 9,
   "metadata": {},
   "outputs": [
    {
     "name": "stdout",
     "output_type": "stream",
     "text": [
      "{'메로나': 1000, '스크류바': 800}\n"
     ]
    }
   ],
   "source": [
    "아이스크림 = {\n",
    "    \"월드콘\": 2000,\n",
    "    \"메로나\": 1000,\n",
    "    \"스크류바\": 800\n",
    "}\n",
    "del 아이스크림[\"월드콘\"]\n",
    "print(아이스크림)"
   ]
  },
  {
   "cell_type": "markdown",
   "metadata": {},
   "source": [
    "### 딕셔너리 key, value 얻기"
   ]
  },
  {
   "cell_type": "code",
   "execution_count": 10,
   "metadata": {},
   "outputs": [
    {
     "name": "stdout",
     "output_type": "stream",
     "text": [
      "dict_keys(['월드콘', '메로나', '스크류바'])\n",
      "dict_values([2000, 1000, 800])\n"
     ]
    }
   ],
   "source": [
    "아이스크림 = {\n",
    "\"월드콘\": 2000,\n",
    "\"메로나\": 1000,\n",
    "\"스크류바\": 800\n",
    "}\n",
    "print(아이스크림.keys( ))\n",
    "print(아이스크림.values())"
   ]
  },
  {
   "cell_type": "markdown",
   "metadata": {},
   "source": [
    "### 연습문제 - 1\n",
    "삼성전자 시가, 고가, 저가, 종가를 딕셔너리로 표현하라\n",
    "| 시가     | 고가   | 저가   | 종가   |\n",
    "|----------|--------|--------|--------|\n",
    "| 58000  | 59000   | 57000   | 58500   |"
   ]
  },
  {
   "cell_type": "code",
   "execution_count": null,
   "metadata": {},
   "outputs": [],
   "source": [
    "ohlc = {\n",
    "    '시가': 58000,\n",
    "    '고가': 59000,\n",
    "    '저가': 57000,\n",
    "    '종가': 58500,\n",
    "}"
   ]
  },
  {
   "cell_type": "markdown",
   "metadata": {},
   "source": [
    "### 연습문제 - 2\n",
    "최근 5주간의 휘발유 가격을 파이썬 딕셔너리로 표현하라.\n",
    "\n",
    "| 2월 4주     | 3월 1주   | 3월 2주   | 3월 3주   | 3월 4주   |\n",
    "|----------|--------|--------|--------|--------|\n",
    "| 1463 | 1483   | 1498   | 1517   | 1530 |"
   ]
  },
  {
   "cell_type": "code",
   "execution_count": 11,
   "metadata": {},
   "outputs": [],
   "source": [
    "price = {\n",
    "    '2월 4주': 1463,\n",
    "    '3월 1주': 1483,\n",
    "    '3월 2주': 1498,\n",
    "    '3월 3주': 1517,\n",
    "    '3월 4주': 1530,\n",
    "}"
   ]
  },
  {
   "cell_type": "markdown",
   "metadata": {},
   "source": [
    "### 연습문제 - 3\n",
    "여러분의 이름, 직업, 나이를 딕셔너리로 표현하세요."
   ]
  },
  {
   "cell_type": "code",
   "execution_count": 12,
   "metadata": {},
   "outputs": [],
   "source": [
    "me = {\n",
    "    '이름': '철수',\n",
    "    '나이': 26,\n",
    "    '직업': '집수호자'\n",
    "\n",
    "}"
   ]
  },
  {
   "cell_type": "code",
   "execution_count": null,
   "metadata": {},
   "outputs": [],
   "source": []
  }
 ],
 "metadata": {
  "kernelspec": {
   "display_name": "Python 3",
   "language": "python",
   "name": "python3"
  },
  "language_info": {
   "codemirror_mode": {
    "name": "ipython",
    "version": 3
   },
   "file_extension": ".py",
   "mimetype": "text/x-python",
   "name": "python",
   "nbconvert_exporter": "python",
   "pygments_lexer": "ipython3",
   "version": "3.9.6"
  }
 },
 "nbformat": 4,
 "nbformat_minor": 2
}
