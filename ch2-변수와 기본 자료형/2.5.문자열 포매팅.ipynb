{
 "cells": [
  {
   "cell_type": "markdown",
   "metadata": {},
   "source": [
    "## 문자열 포매팅\n",
    "### 문자열 포매팅\n",
    "파이썬은 복잡한 문자열 출력을 위해 C언어 스타일의 문자열 포매팅을 지원합니다. "
   ]
  },
  {
   "cell_type": "code",
   "execution_count": 1,
   "metadata": {},
   "outputs": [
    {
     "name": "stdout",
     "output_type": "stream",
     "text": [
      "철수의 총점은 290, 평균은 96.666667입니다. \n"
     ]
    }
   ],
   "source": [
    "name = \"철수\"\n",
    "score = 290\n",
    "average = 290/3\n",
    "print(\"%s의 총점은 %d, 평균은 %f입니다. \" % (name, score, average))"
   ]
  },
  {
   "cell_type": "code",
   "execution_count": 2,
   "metadata": {},
   "outputs": [
    {
     "name": "stdout",
     "output_type": "stream",
     "text": [
      "철수의 총점은 290, 평균은 96.66666666666667입니다. \n"
     ]
    }
   ],
   "source": [
    "name = \"철수\"\n",
    "score = 290\n",
    "average = 290/3\n",
    "print(\"{}의 총점은 {}, 평균은 {}입니다. \".format(name, score, average))"
   ]
  },
  {
   "cell_type": "code",
   "execution_count": 3,
   "metadata": {},
   "outputs": [
    {
     "name": "stdout",
     "output_type": "stream",
     "text": [
      "철수의 총점은 290, 평균은 96.66666666666667입니다.\n"
     ]
    }
   ],
   "source": [
    "name = \"철수\"\n",
    "score = 290\n",
    "average = 290/3\n",
    "print(f\"{name}의 총점은 {score}, 평균은 {average}입니다.\")"
   ]
  },
  {
   "cell_type": "markdown",
   "metadata": {},
   "source": [
    "### f-string\n",
    "가독성 높게 다양한 문자열 포맷팅을 지원합니다."
   ]
  },
  {
   "cell_type": "code",
   "execution_count": 4,
   "metadata": {},
   "outputs": [
    {
     "name": "stdout",
     "output_type": "stream",
     "text": [
      "암호화폐: BTC/KRW 현재가: 28300000\n",
      "암호화폐: DOGE/KRW 현재가: 193\n"
     ]
    }
   ],
   "source": [
    "btc_symbol = \"BTC/KRW\"\n",
    "btc_price = 28300000\n",
    "doge_symbol = \"DOGE/KRW\"\n",
    "doge_price = 193\n",
    "print(f\"암호화폐: {btc_symbol} 현재가: {btc_price}\")\n",
    "print(f\"암호화폐: {doge_symbol} 현재가: {doge_price}\")"
   ]
  },
  {
   "cell_type": "code",
   "execution_count": 6,
   "metadata": {},
   "outputs": [
    {
     "name": "stdout",
     "output_type": "stream",
     "text": [
      "암호화폐:    BTC/KRW 현재가: 28,300,000\n",
      "암호화폐:   DOGE/KRW 현재가:        193\n"
     ]
    }
   ],
   "source": [
    "btc_symbol = \"BTC/KRW\"\n",
    "btc_price = 28300000\n",
    "doge_symbol = \"DOGE/KRW\"\n",
    "doge_price = 193\n",
    "print(f\"암호화폐: {btc_symbol: >10} 현재가: {btc_price: >10,}\")\n",
    "print(f\"암호화폐: {doge_symbol: >10} 현재가: {doge_price: >10,}\")"
   ]
  },
  {
   "cell_type": "code",
   "execution_count": 7,
   "metadata": {},
   "outputs": [
    {
     "name": "stdout",
     "output_type": "stream",
     "text": [
      "  3.14\n"
     ]
    }
   ],
   "source": [
    "a = 3.141592\n",
    "mystr = f\"{a: 6.2f}\" # mystr = \" 3.14\"\n",
    "print(mystr)"
   ]
  },
  {
   "cell_type": "code",
   "execution_count": null,
   "metadata": {},
   "outputs": [],
   "source": []
  }
 ],
 "metadata": {
  "kernelspec": {
   "display_name": "Python 3",
   "language": "python",
   "name": "python3"
  },
  "language_info": {
   "codemirror_mode": {
    "name": "ipython",
    "version": 3
   },
   "file_extension": ".py",
   "mimetype": "text/x-python",
   "name": "python",
   "nbconvert_exporter": "python",
   "pygments_lexer": "ipython3",
   "version": "3.9.6"
  }
 },
 "nbformat": 4,
 "nbformat_minor": 2
}
