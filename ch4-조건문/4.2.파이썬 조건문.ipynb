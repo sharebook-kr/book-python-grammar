{
 "cells": [
  {
   "cell_type": "markdown",
   "metadata": {},
   "source": [
    "## 파이썬 조건문\n",
    "### 조건문\n",
    "조건에 따라 코드를 선택적으로 실행하는 문법입니다.\n",
    "```\n",
    "if 조건:\n",
    "    실행문\n",
    "```"
   ]
  },
  {
   "cell_type": "code",
   "execution_count": 1,
   "metadata": {},
   "outputs": [
    {
     "name": "stdout",
     "output_type": "stream",
     "text": [
      "우산챙김\n"
     ]
    }
   ],
   "source": [
    "날씨 = \"흐림\"\n",
    "if 날씨 == '흐림':\n",
    "    print(\"우산챙김\")"
   ]
  },
  {
   "cell_type": "code",
   "execution_count": 2,
   "metadata": {},
   "outputs": [],
   "source": [
    "날씨 = \"맑음\"\n",
    "if 날씨 == '흐림':\n",
    "    print(\"우산챙김\")"
   ]
  },
  {
   "cell_type": "markdown",
   "metadata": {},
   "source": [
    "조건을 만족할 때 여러 문장이 실행될 수 있습니다."
   ]
  },
  {
   "cell_type": "code",
   "execution_count": 3,
   "metadata": {},
   "outputs": [
    {
     "name": "stdout",
     "output_type": "stream",
     "text": [
      "우산챙김\n",
      "택시타기\n"
     ]
    }
   ],
   "source": [
    "날씨 = \"흐림\"\n",
    "if 날씨 == '흐림':\n",
    "    print(\"우산챙김\")\n",
    "    print(\"택시타기\")"
   ]
  },
  {
   "cell_type": "markdown",
   "metadata": {},
   "source": [
    "### 논리 연산자\n",
    "복잡한 조건을 표현하는데 사용합니다.\n",
    "| 논리 연산자 |    의미     |\n",
    "|-------------|------------|\n",
    "|     and     |     그리고   |\n",
    "|     or      |     또는     |\n",
    "|     not     |  ~가 아닌  |"
   ]
  },
  {
   "cell_type": "code",
   "execution_count": 5,
   "metadata": {},
   "outputs": [
    {
     "name": "stdout",
     "output_type": "stream",
     "text": [
      "커피 주문\n"
     ]
    }
   ],
   "source": [
    "커피가격 = 4000\n",
    "커피사이즈 = \"Tall\"\n",
    "if 커피가격 < 5000 and 커피사이즈 == \"Tall\":\n",
    "    print(\"커피 주문\")"
   ]
  },
  {
   "cell_type": "code",
   "execution_count": 6,
   "metadata": {},
   "outputs": [
    {
     "name": "stdout",
     "output_type": "stream",
     "text": [
      "커피 주문\n"
     ]
    }
   ],
   "source": [
    "커피가격 = 4000\n",
    "커피사이즈 = \"Tall\"\n",
    "if 커피가격 < 3000 or 커피사이즈 == \"Tall\":\n",
    "    print(\"커피 주문\")"
   ]
  },
  {
   "cell_type": "markdown",
   "metadata": {},
   "source": [
    "### if - else문\n",
    "조건이 두 개일 경우 사용하는 분기문입니다.\n",
    "```python\n",
    "if 조건문:\n",
    "    A # 조건문이 참이면 수행될 문장\n",
    "else:\n",
    "    B # 조건문이 거짓이면 수행될 문장\n",
    "```"
   ]
  },
  {
   "cell_type": "code",
   "execution_count": 7,
   "metadata": {},
   "outputs": [
    {
     "name": "stdout",
     "output_type": "stream",
     "text": [
      "0.5% 적립\n"
     ]
    }
   ],
   "source": [
    "구매총액 = 84000\n",
    "if 구매총액 > 100000:\n",
    "    print(\"1% 적립\")\n",
    "else:\n",
    "    print(\"0.5% 적립\")"
   ]
  },
  {
   "cell_type": "markdown",
   "metadata": {},
   "source": [
    "### `if ~ elif ~ else`\n",
    "조건이 세 개이상일 경우 사용하는 분기문입니다. \n",
    "```\n",
    "if 조건문1:\n",
    "    수행문1\n",
    "elif 조건문2:\n",
    "    수행문2\n",
    "elif 조건문3:\n",
    "    수행문3\n",
    "else:\n",
    "    수행문4\n",
    "```"
   ]
  },
  {
   "cell_type": "code",
   "execution_count": 8,
   "metadata": {},
   "outputs": [
    {
     "name": "stdout",
     "output_type": "stream",
     "text": [
      "이자율 3.5%\n"
     ]
    }
   ],
   "source": [
    "연봉 = 80000000\n",
    "if 연봉 >= 100000000:\n",
    "    print(\"이자율 3%\")\n",
    "elif 연봉 >= 70000000:\n",
    "    print(\"이자율 3.5%\")\n",
    "elif 연봉 >= 50000000:\n",
    "    print(\"이자율 4%\")\n",
    "else:\n",
    "    print(\"이자율 4.5%\")"
   ]
  },
  {
   "cell_type": "markdown",
   "metadata": {},
   "source": [
    "### 연습문제 - 1\n",
    "num1이 10을 num2가 20을 바인딩할 때 num1과 num2를 비교하면 큰 값을 화면에 출력해보세요."
   ]
  },
  {
   "cell_type": "code",
   "execution_count": 9,
   "metadata": {},
   "outputs": [
    {
     "name": "stdout",
     "output_type": "stream",
     "text": [
      "20\n"
     ]
    }
   ],
   "source": [
    "# 변수에 값을 바인딩\n",
    "num1 = 10\n",
    "num2 = 20\n",
    "\n",
    "# num1과 num2를 비교하여 큰 값을 출력\n",
    "if num1 > num2:\n",
    "    print(num1)\n",
    "else:\n",
    "    print(num2)"
   ]
  },
  {
   "cell_type": "markdown",
   "metadata": {},
   "source": [
    "### 연습문제 - 2\n",
    "점수가 65점일 때 학점을 출력하는 프로그램을 작성하시요."
   ]
  },
  {
   "cell_type": "code",
   "execution_count": 10,
   "metadata": {},
   "outputs": [
    {
     "name": "stdout",
     "output_type": "stream",
     "text": [
      "점수: 20, 학점: F\n"
     ]
    }
   ],
   "source": [
    "# 점수 입력\n",
    "score = int(input(\"점수를 입력하세요: \"))\n",
    "\n",
    "# 학점 계산\n",
    "if score >= 90:\n",
    "    grade = \"A\"\n",
    "elif score >= 80:\n",
    "    grade = \"B\"\n",
    "elif score >= 70:\n",
    "    grade = \"C\"\n",
    "elif score >= 60:\n",
    "    grade = \"D\"\n",
    "else:\n",
    "    grade = \"F\"\n",
    "\n",
    "# 결과 출력\n",
    "print(f\"점수: {score}, 학점: {grade}\")"
   ]
  }
 ],
 "metadata": {
  "kernelspec": {
   "display_name": "Python 3",
   "language": "python",
   "name": "python3"
  },
  "language_info": {
   "codemirror_mode": {
    "name": "ipython",
    "version": 3
   },
   "file_extension": ".py",
   "mimetype": "text/x-python",
   "name": "python",
   "nbconvert_exporter": "python",
   "pygments_lexer": "ipython3",
   "version": "3.9.6"
  }
 },
 "nbformat": 4,
 "nbformat_minor": 2
}
